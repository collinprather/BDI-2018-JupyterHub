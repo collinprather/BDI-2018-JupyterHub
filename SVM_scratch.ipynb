{
 "cells": [
  {
   "cell_type": "markdown",
   "metadata": {},
   "source": [
    "# Building Support Vector Machine from Scratch"
   ]
  },
  {
   "cell_type": "markdown",
   "metadata": {},
   "source": [
    "Here, we import the necessary packages"
   ]
  },
  {
   "cell_type": "code",
   "execution_count": 67,
   "metadata": {},
   "outputs": [],
   "source": [
    "import numpy as np\n",
    "import pandas as pd\n",
    "import matplotlib.pyplot as plt\n",
    "%matplotlib inline\n",
    "\n",
    "from sklearn.datasets import make_blobs"
   ]
  },
  {
   "cell_type": "markdown",
   "metadata": {},
   "source": [
    "Here, we apply a sklearn package to generate our data."
   ]
  },
  {
   "cell_type": "code",
   "execution_count": 68,
   "metadata": {},
   "outputs": [],
   "source": [
    "X, y = make_blobs(n_samples=100, centers=2, n_features=2, random_state=3)\n",
    "np.place(y, y==0, -1)"
   ]
  },
  {
   "cell_type": "code",
   "execution_count": 71,
   "metadata": {},
   "outputs": [
    {
     "data": {
      "text/plain": [
       "<matplotlib.collections.PathCollection at 0x1a22b47390>"
      ]
     },
     "execution_count": 71,
     "metadata": {},
     "output_type": "execute_result"
    },
    {
     "data": {
      "image/png": "[encoded data removed]",
      "text/plain": [
       "<matplotlib.figure.Figure at 0x1a24028390>"
      ]
     },
     "metadata": {},
     "output_type": "display_data"
    }
   ],
   "source": [
    "plt.figure(figsize = (6,4))\n",
    "plt.scatter(X[:,0], X[:,1], c=y, cmap = 'jet')"
   ]
  },
  {
   "cell_type": "markdown",
   "metadata": {},
   "source": [
    "---"
   ]
  },
  {
   "cell_type": "markdown",
   "metadata": {},
   "source": [
    "### Representation: Support Vector Machine"
   ]
  },
  {
   "cell_type": "markdown",
   "metadata": {},
   "source": [
    "Generally speaking, (in 2-d) a support vector machine classifies our data by finding the line that perfectly separates the two classes.\n",
    "![Machine Learning Algorithms](Figures/many_hyps.png)\n",
    "\n",
    "There is, however, a potentially infinite amount of separating lines... how can we determine the optimal one?\n",
    "\n",
    "Well, naturally, we want to choose the line that maximizes the margin between the two classes.\n",
    "\n",
    "![Machine Learning Algorithms](Figures/max_margin.png)"
   ]
  },
  {
   "cell_type": "markdown",
   "metadata": {},
   "source": [
    "If we define the equation of our line to be $$y=mx+b$$ per usual, then this translates to finding the optimal $m$ and $b$."
   ]
  },
  {
   "cell_type": "markdown",
   "metadata": {},
   "source": [
    "#### The definition of a Hyperplane:\n",
    "A hyperplane in two dimensions is defined as: $$\\beta_0+\\beta_1X_1+\\beta_2X_2=0$$\n",
    "\n",
    "With the following algebraic manipulation, we can see how a 2-d hyperplane is equivalent to a line\n",
    "\\begin{align*}\n",
    "\t\\beta_0+\\beta_1X_1+\\beta_2X_2&=0\\\\\n",
    "\t\\beta_2X_2&=-\\beta_1X_1-\\beta_0\\\\\n",
    "\tX_2&= \\frac{-\\beta_1X_1}{\\beta_2}-\\frac{\\beta_0}{\\beta_2}\n",
    "\\end{align*}\n",
    "given that $\\frac{-\\beta_1}{\\beta_2}=m$ and $\\frac{\\beta_0}{\\beta_2}=b$"
   ]
  },
  {
   "cell_type": "markdown",
   "metadata": {},
   "source": [
    ">A note on notation: A hyperplane is defined this way, as it is simpler to express it when we move into greater dimensions. In our crash data, we use over 14 variables, so the equation for the separating hyperplane will look like this:\n",
    "$$\\beta_0 + \\beta_1X_1 + \\beta_2X_2 + \\beta_3X_3 + \\beta_4X_4 + \\beta_5X_5 + \\beta_6X_6 + \\beta_7X_7 + \\beta_8X_8 + \\beta_9X_9 + \\beta_{10}X_{10} + \\beta_{11}X_{11} + \\beta_{12}X_{12} + \\beta_{13}X_{13} + \\beta_{14}X_{14}=0$$\n",
    "For the human, this is incredibly difficult to work work, for the machine, it is simple. Additionally, this is also the dot product of $\\overrightarrow{\\beta}$ and $\\overrightarrow{X}$."
   ]
  },
  {
   "cell_type": "code",
   "execution_count": 28,
   "metadata": {},
   "outputs": [],
   "source": [
    "def add_intercept(X):\n",
    "    intercept = np.ones((X.shape[0], 1))\n",
    "    return np.concatenate((intercept, X), axis=1)"
   ]
  },
  {
   "cell_type": "code",
   "execution_count": 29,
   "metadata": {},
   "outputs": [],
   "source": [
    "X = add_intercept(X)\n",
    "w = np.zeros(len(X[0]))"
   ]
  },
  {
   "cell_type": "markdown",
   "metadata": {},
   "source": [
    "### Evaluation: Hinge Loss Function"
   ]
  },
  {
   "cell_type": "markdown",
   "metadata": {},
   "source": [
    "#### Quick refresher on dot product\n",
    "Algebraically, the dot product is defined as follows:\n",
    "for two vectors $$\\overrightarrow{x}=\\left[\\begin{matrix}\n",
    "x_1\\\\\n",
    "y_1\\\\\n",
    "\\end{matrix}\n",
    "\\right],\\ \n",
    "\\overrightarrow{y} = \\left[\\begin{matrix}\n",
    "y_1\\\\\n",
    "y_2\\\\\n",
    "\\end{matrix}\n",
    "\\right]\n",
    "$$\n",
    "The dot product is (note that this is a scalar value):\n",
    "$$\\overrightarrow{x} \\cdot \\overrightarrow{y} = x_1y_1+x_2y_2$$"
   ]
  },
  {
   "cell_type": "markdown",
   "metadata": {},
   "source": [
    "#### The Hinge Loss Function is defined as:\n",
    "\n",
    "$$Loss\\ (\\overrightarrow{w}, X^{(i)}, y^{(i)}) = \\left[ 1 - y^{(i)} \\cdot (\\overrightarrow{w} \\cdot X^{(i)}) \\right]_+$$"
   ]
  },
  {
   "cell_type": "markdown",
   "metadata": {},
   "source": [
    "This is why we need a regularization term\n",
    "![Skewed hyp](Figures/skewed_hyp.png)\n",
    "\n",
    "#### Hinge Loss with regularization term:\n",
    "\n",
    "$$Loss\\ (\\overrightarrow{w}, X^{(i)}, y^{(i)}) = \\left[ 1 - y^{(i)} \\cdot (\\overrightarrow{w} \\cdot X^{(i)}) \\right]_+ + \\Sigma_{i}^{n}\\ w_i^2$$"
   ]
  },
  {
   "cell_type": "code",
   "execution_count": 30,
   "metadata": {},
   "outputs": [],
   "source": [
    "def hinge_loss(X_i, y_i, weights):\n",
    "    loss = 1 - y_i * np.dot(weights.T, X_i)\n",
    "    if loss < 0:\n",
    "        loss = 0\n",
    "    return loss"
   ]
  },
  {
   "cell_type": "code",
   "execution_count": 31,
   "metadata": {},
   "outputs": [
    {
     "data": {
      "text/plain": [
       "100.0"
      ]
     },
     "execution_count": 31,
     "metadata": {},
     "output_type": "execute_result"
    }
   ],
   "source": [
    "loss = []\n",
    "for i in range(len(X)):\n",
    "    loss.append(hinge_loss(X[i], y[i], w))\n",
    "total_loss = np.sum(loss)\n",
    "total_loss"
   ]
  },
  {
   "cell_type": "code",
   "execution_count": 32,
   "metadata": {},
   "outputs": [
    {
     "data": {
      "text/plain": [
       "array([ 0.,  0.,  0.])"
      ]
     },
     "execution_count": 32,
     "metadata": {},
     "output_type": "execute_result"
    }
   ],
   "source": [
    "w"
   ]
  },
  {
   "cell_type": "markdown",
   "metadata": {},
   "source": [
    "### Optimization: Stochastic Gradient Descent\n",
    "* [super helpful explanations of all types of gradient descent](https://am207.github.io/2017/wiki/gradientdescent.html#stochastic-gradient-descent)"
   ]
  },
  {
   "cell_type": "code",
   "execution_count": 33,
   "metadata": {},
   "outputs": [],
   "source": [
    "learning_rate = 1\n",
    "num_iters = 1000\n",
    "w = np.zeros(len(X[0]))\n",
    "# lambda = 1/iteration\n",
    "loss_hist = []\n",
    "\n",
    "def Stochastic_Gradient_Descent(X, y, learning_rate, num_iters):\n",
    "    #X = add_intercept(X)\n",
    "    weights = np.zeros(len(X[0]))\n",
    "    for iteration in range(1, num_iters):\n",
    "        for row in range(len(X)):\n",
    "            loss = hinge_loss(X[row], y[row], weights)\n",
    "            if loss == 0:\n",
    "                weights = weights - learning_rate * ((2  * (1/iteration) * weights))\n",
    "            else:\n",
    "                weights = weights - learning_rate * ((-y[row] * X[row]) + (2  * (1/iteration) * weights))\n",
    "    return weights\n",
    "            "
   ]
  },
  {
   "cell_type": "code",
   "execution_count": 34,
   "metadata": {},
   "outputs": [],
   "source": [
    "weights = Stochastic_Gradient_Descent(X = X, y=y, learning_rate=1, num_iters = 1000)"
   ]
  },
  {
   "cell_type": "code",
   "execution_count": 35,
   "metadata": {},
   "outputs": [
    {
     "data": {
      "text/plain": [
       "array([  2.12889977e-03,  -3.55624119e+00,  -2.75181965e+00])"
      ]
     },
     "execution_count": 35,
     "metadata": {},
     "output_type": "execute_result"
    }
   ],
   "source": [
    "weights"
   ]
  },
  {
   "cell_type": "code",
   "execution_count": 36,
   "metadata": {},
   "outputs": [
    {
     "data": {
      "text/plain": [
       "0"
      ]
     },
     "execution_count": 36,
     "metadata": {},
     "output_type": "execute_result"
    }
   ],
   "source": [
    "loss = []\n",
    "for i in range(len(X)):\n",
    "    loss.append(hinge_loss(X[i], y[i], weights))\n",
    "total_loss = np.sum(loss)\n",
    "total_loss"
   ]
  },
  {
   "cell_type": "code",
   "execution_count": 37,
   "metadata": {},
   "outputs": [
    {
     "data": {
      "text/plain": [
       "[<matplotlib.lines.Line2D at 0x11beb6390>]"
      ]
     },
     "execution_count": 37,
     "metadata": {},
     "output_type": "execute_result"
    },
    {
     "data": {
      "image/png": "[encoded data removed]",
      "text/plain": [
       "<matplotlib.figure.Figure at 0x11beb6320>"
      ]
     },
     "metadata": {},
     "output_type": "display_data"
    }
   ],
   "source": [
    "# it works, we've found the perfectly separating hyperplane!\n",
    "plt.scatter(X[:,1], X[:,2], c=y, cmap = 'jet')\n",
    "ax = plt.gca()\n",
    "xlim = ax.get_xlim()\n",
    "ylim = ax.get_ylim()\n",
    "xx = np.linspace(xlim[0], xlim[1], 100)\n",
    "plt.plot(xx, (-weights[1]/weights[2]) * xx - (weights[0]/weights[2]))"
   ]
  },
  {
   "cell_type": "code",
   "execution_count": 58,
   "metadata": {},
   "outputs": [
    {
     "data": {
      "text/plain": [
       "Text(0,0.5,'loss')"
      ]
     },
     "execution_count": 58,
     "metadata": {},
     "output_type": "execute_result"
    },
    {
     "data": {
      "image/png": "[encoded data removed]",
      "text/plain": [
       "<matplotlib.figure.Figure at 0x10bf579e8>"
      ]
     },
     "metadata": {},
     "output_type": "display_data"
    }
   ],
   "source": [
    "plt.plot(range(len(loss_hist)), loss_hist)\n",
    "plt.xlabel('iterations')\n",
    "plt.ylabel('loss')"
   ]
  },
  {
   "cell_type": "code",
   "execution_count": 59,
   "metadata": {},
   "outputs": [
    {
     "ename": "ValueError",
     "evalue": "min() arg is an empty sequence",
     "output_type": "error",
     "traceback": [
      "\u001b[0;31m---------------------------------------------------------------------------\u001b[0m",
      "\u001b[0;31mValueError\u001b[0m                                Traceback (most recent call last)",
      "\u001b[0;32m<ipython-input-59-cfbfe0e65df9>\u001b[0m in \u001b[0;36m<module>\u001b[0;34m()\u001b[0m\n\u001b[0;32m----> 1\u001b[0;31m \u001b[0mmin\u001b[0m\u001b[0;34m(\u001b[0m\u001b[0mloss_hist\u001b[0m\u001b[0;34m)\u001b[0m\u001b[0;34m\u001b[0m\u001b[0m\n\u001b[0m",
      "\u001b[0;31mValueError\u001b[0m: min() arg is an empty sequence"
     ]
    }
   ],
   "source": [
    "min(loss_hist)"
   ]
  },
  {
   "cell_type": "markdown",
   "metadata": {},
   "source": [
    "---"
   ]
  },
  {
   "cell_type": "markdown",
   "metadata": {},
   "source": [
    "---"
   ]
  },
  {
   "cell_type": "markdown",
   "metadata": {},
   "source": [
    "---"
   ]
  },
  {
   "cell_type": "markdown",
   "metadata": {},
   "source": [
    "# Applying SVM to GR Crash Data"
   ]
  },
  {
   "cell_type": "markdown",
   "metadata": {},
   "source": [
    "* Instead of their traditional SVM, I could use the [Stochastic Gradient Descent Classifier](http://scikit-learn.org/stable/modules/sgd.html)\n",
    "\n",
    "```python\n",
    "from sklearn.linear_model import SGDClassifier\n",
    "clf = SGDClassifier(loss=\"hinge\", alpha=0.01, penalty=\"l2\", fit_intercept=True)\n",
    "clf.fit(X, y)\n",
    "```\n",
    "\n",
    "Note that `SVC(kernel=\"linear\")` is equivalent to `SGDClassifier(loss=\"hinge\")` as [scikit-learn's documentation indicates](http://scikit-learn.org/stable/auto_examples/svm/plot_separating_hyperplane_unbalanced.html#sphx-glr-auto-examples-svm-plot-separating-hyperplane-unbalanced-py)"
   ]
  },
  {
   "cell_type": "code",
   "execution_count": 40,
   "metadata": {},
   "outputs": [],
   "source": [
    "X_cols = ['X', 'Y', 'DRIVER1AGE', 'NUMOFINJ', 'HOUR_X', 'HOUR_Y',\n",
    "          'CRASHSEVER_Fatal', 'CRASHSEVER_Injury', 'DRIVER1SEX_M', 'DRIVER1SEX_U',\n",
    "          'HITANDRUN_Yes', 'MOTORCYCLE_Yes',\n",
    "          'D1COND_Appeared Normal', 'D1COND_Fatigue / Sick']\n",
    "y_cols = 'D1DRINKIN_Yes'"
   ]
  },
  {
   "cell_type": "code",
   "execution_count": 41,
   "metadata": {},
   "outputs": [],
   "source": [
    "crash_data = pd.read_csv('Data/Crash_data_prepared.csv')\n",
    "X = crash_data.loc[:, X_cols]\n",
    "y = crash_data.loc[:, y_cols]"
   ]
  },
  {
   "cell_type": "markdown",
   "metadata": {},
   "source": [
    "## Statistical Re-sampling\n",
    "Since the recall was still very low after training our SVM, we will use a statistical re-sampling technique designed for dealing with imbalanced classes, like ours. We'll be using some tools from the [imbalanced-learn package](http://contrib.scikit-learn.org/imbalanced-learn/stable/under_sampling.html)"
   ]
  },
  {
   "cell_type": "markdown",
   "metadata": {},
   "source": [
    "* `Recall` is our metric of choice. [this article](https://towardsdatascience.com/beyond-accuracy-precision-and-recall-3da06bea9f6c) provides a great explanation for why\n",
    "    * In our instance, we're okay with incorectly guessing that there was alcohol involved with some car crashes, if it means predicting all the instances when there was alcohol involved\n",
    "    * Generally speaking, when dealing with an imbalanced dataset, oversampling is a good technique to increase recall\n",
    "* [this](https://beckernick.github.io/oversampling-modeling/) is a great article on the right way to oversmple."
   ]
  },
  {
   "cell_type": "code",
   "execution_count": 49,
   "metadata": {},
   "outputs": [],
   "source": [
    "from imblearn.over_sampling import SMOTE\n",
    "from sklearn.svm import SVC\n",
    "from collections import Counter\n",
    "from sklearn.model_selection import train_test_split\n",
    "from sklearn.metrics import confusion_matrix, classification_report, precision_score, roc_curve, auc"
   ]
  },
  {
   "cell_type": "code",
   "execution_count": 43,
   "metadata": {},
   "outputs": [],
   "source": [
    "X_train, X_test, y_train, y_test = train_test_split(X, y, random_state=742)"
   ]
  },
  {
   "cell_type": "code",
   "execution_count": 44,
   "metadata": {},
   "outputs": [],
   "source": [
    "X_train_resampled, y_train_resampled = SMOTE().fit_sample(X_train, y_train)"
   ]
  },
  {
   "cell_type": "code",
   "execution_count": 45,
   "metadata": {},
   "outputs": [
    {
     "name": "stdout",
     "output_type": "stream",
     "text": [
      "[(0, 52717), (1, 52717)]\n"
     ]
    }
   ],
   "source": [
    "print(sorted(Counter(y_train_resampled).items()))"
   ]
  },
  {
   "cell_type": "code",
   "execution_count": 50,
   "metadata": {},
   "outputs": [
    {
     "data": {
      "text/plain": [
       "SVC(C=1.0, cache_size=200, class_weight=None, coef0=0.0,\n",
       "  decision_function_shape='ovr', degree=3, gamma='auto', kernel='linear',\n",
       "  max_iter=-1, probability=False, random_state=None, shrinking=True,\n",
       "  tol=0.001, verbose=False)"
      ]
     },
     "execution_count": 50,
     "metadata": {},
     "output_type": "execute_result"
    }
   ],
   "source": [
    "clf = SVC(kernel='linear')\n",
    "clf.fit(X_train_resampled, y_train_resampled)"
   ]
  },
  {
   "cell_type": "code",
   "execution_count": 51,
   "metadata": {},
   "outputs": [
    {
     "name": "stdout",
     "output_type": "stream",
     "text": [
      "             precision    recall  f1-score   support\n",
      "\n",
      "          0       1.00      0.91      0.95     17543\n",
      "          1       0.30      0.94      0.46       702\n",
      "\n",
      "avg / total       0.97      0.91      0.93     18245\n",
      "\n"
     ]
    }
   ],
   "source": [
    "y_pred = clf.predict(X_test)\n",
    "print(classification_report(y_test, y_pred))"
   ]
  },
  {
   "cell_type": "code",
   "execution_count": 52,
   "metadata": {},
   "outputs": [
    {
     "name": "stdout",
     "output_type": "stream",
     "text": [
      "True negatives: 16032\n",
      "True positives: 657\n",
      "False negatives: 45\n",
      "False Positives: 1511\n",
      "\n",
      " [[16032  1511]\n",
      " [   45   657]]\n"
     ]
    }
   ],
   "source": [
    "tn, fp, fn, tp = confusion_matrix(y_test, y_pred).ravel()\n",
    "print('True negatives:', tn)\n",
    "print('True positives:', tp)\n",
    "print('False negatives:', fn)\n",
    "print('False Positives:', fp)\n",
    "print('\\n', confusion_matrix(y_test, y_pred))"
   ]
  },
  {
   "cell_type": "code",
   "execution_count": 63,
   "metadata": {},
   "outputs": [],
   "source": [
    "import itertools\n",
    "\n",
    "def plot_confusion_matrix(cm, classes,\n",
    "                          normalize=False,\n",
    "                          title='Confusion matrix',\n",
    "                          cmap=plt.cm.Blues):\n",
    "    \"\"\"\n",
    "    This function prints and plots the confusion matrix.\n",
    "    Normalization can be applied by setting `normalize=True`.\n",
    "    \"\"\"\n",
    "    if normalize:\n",
    "        cm = cm.astype('float') / cm.sum(axis=1)[:, np.newaxis]\n",
    "        print(\"Normalized confusion matrix\")\n",
    "    else:\n",
    "        print('Confusion matrix, without normalization')\n",
    "\n",
    "    print(cm)\n",
    "\n",
    "    plt.imshow(cm, interpolation='nearest', cmap=cmap)\n",
    "    plt.title(title)\n",
    "    plt.colorbar()\n",
    "    tick_marks = np.arange(len(classes))\n",
    "    plt.xticks(tick_marks, classes, rotation=45)\n",
    "    plt.yticks(tick_marks, classes)\n",
    "\n",
    "    fmt = '.2f' if normalize else 'd'\n",
    "    thresh = cm.max() / 2.\n",
    "    for i, j in itertools.product(range(cm.shape[0]), range(cm.shape[1])):\n",
    "        plt.text(j, i, format(cm[i, j], fmt),\n",
    "                 horizontalalignment=\"center\",\n",
    "                 color=\"white\" if cm[i, j] > thresh else \"black\")\n",
    "\n",
    "    plt.tight_layout()\n",
    "    plt.ylabel('True label')\n",
    "    plt.xlabel('Predicted label')"
   ]
  },
  {
   "cell_type": "code",
   "execution_count": 65,
   "metadata": {},
   "outputs": [
    {
     "name": "stdout",
     "output_type": "stream",
     "text": [
      "Normalized confusion matrix\n",
      "[[ 0.91  0.09]\n",
      " [ 0.06  0.94]]\n"
     ]
    },
    {
     "data": {
      "image/png": "[encoded data removed]",
      "text/plain": [
       "<matplotlib.figure.Figure at 0x1a210cc550>"
      ]
     },
     "metadata": {},
     "output_type": "display_data"
    }
   ],
   "source": [
    "# define figure and add subplots\n",
    "fig, (ax1, ax2) = plt.subplots(1,2, figsize=(12,5))\n",
    "\n",
    "y_score = clf.decision_function(X_test)\n",
    "\n",
    "# Compute ROC curve and ROC area for each class\n",
    "fpr, tpr, thresholds = roc_curve(y_test, y_score)\n",
    "roc_auc = auc(fpr, tpr)\n",
    "\n",
    "# Plotting the ROC curve\n",
    "ax1.plot(fpr, tpr, color='darkorange',\n",
    "         lw=2, label='ROC curve (area = %0.2f)' % roc_auc)\n",
    "ax1.plot([0, 1], [0, 1], color='navy', lw=lw, linestyle='--')\n",
    "ax1.set_xlim([0.0, 1.0])\n",
    "ax1.set_ylim([0.0, 1.05])\n",
    "ax1.set_xlabel('False Positive Rate')\n",
    "ax1.set_ylabel('True Positive Rate')\n",
    "ax1.set_title('ROC Curve')\n",
    "ax1.legend(loc=\"lower right\")\n",
    "\n",
    "# Compute confusion matrix\n",
    "cm = confusion_matrix(y_test, y_pred)\n",
    "np.set_printoptions(precision=2)\n",
    "\n",
    "# Plot normalized confusion matrix\n",
    "plot_confusion_matrix(cm, classes=['No Alcohol', 'Alcohol Involved'], normalize=True,\n",
    "                      title='Normalized confusion matrix')\n",
    "\n",
    "# adjust spacing\n",
    "plt.subplots_adjust(left=None, bottom=None, right=None, top=None,\n",
    "                wspace=.5, hspace=None)"
   ]
  }
 ],
 "metadata": {
  "kernelspec": {
   "display_name": "Python 3",
   "language": "python",
   "name": "python3"
  },
  "language_info": {
   "codemirror_mode": {
    "name": "ipython",
    "version": 3
   },
   "file_extension": ".py",
   "mimetype": "text/x-python",
   "name": "python",
   "nbconvert_exporter": "python",
   "pygments_lexer": "ipython3",
   "version": "3.6.3"
  }
 },
 "nbformat": 4,
 "nbformat_minor": 2
}
