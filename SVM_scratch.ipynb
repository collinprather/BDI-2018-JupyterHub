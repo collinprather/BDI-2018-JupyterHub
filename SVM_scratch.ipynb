{
 "cells": [
  {
   "cell_type": "code",
   "execution_count": 1,
   "metadata": {},
   "outputs": [],
   "source": [
    "import numpy as np\n",
    "import matplotlib.pyplot as plt\n",
    "%matplotlib inline\n",
    "\n",
    "from sklearn.datasets import make_blobs\n",
    "from sklearn.metrics import classification_report"
   ]
  },
  {
   "cell_type": "markdown",
   "metadata": {},
   "source": [
    "# Add docstrings to all functions!\n",
    "# add note about why the loss_hist oscillates so much (because it is not batch gd or even mini-batch gd)\n",
    "* [super helpful explanations of all types of gradient descent](https://am207.github.io/2017/wiki/gradientdescent.html#stochastic-gradient-descent)\n",
    "* Machine Learning Mastery's [SGD from scratch implementation in python](https://machinelearningmastery.com/implement-logistic-regression-stochastic-gradient-descent-scratch-python/)\n",
    "    * note the difference in how the the loss is set back to zero on every epoch, then summed at every row\n",
    "* Another [SGD from scratch](http://adventuresinmachinelearning.com/stochastic-gradient-descent/) with helpful explanation of the oscillation of the convergence of SGD"
   ]
  },
  {
   "cell_type": "code",
   "execution_count": 2,
   "metadata": {},
   "outputs": [],
   "source": [
    "X, y = make_blobs(n_samples=100, centers=2, n_features=2, random_state=3)\n",
    "np.place(y, y==0, -1)"
   ]
  },
  {
   "cell_type": "code",
   "execution_count": 3,
   "metadata": {},
   "outputs": [
    {
     "data": {
      "text/plain": [
       "<matplotlib.collections.PathCollection at 0x10bfe21d0>"
      ]
     },
     "execution_count": 3,
     "metadata": {},
     "output_type": "execute_result"
    },
    {
     "data": {
      "image/png": "[encoded data removed]",
      "text/plain": [
       "<matplotlib.figure.Figure at 0x106f36470>"
      ]
     },
     "metadata": {},
     "output_type": "display_data"
    }
   ],
   "source": [
    "plt.scatter(X[:,0], X[:,1], c=y, cmap = 'jet')"
   ]
  },
  {
   "cell_type": "code",
   "execution_count": 4,
   "metadata": {},
   "outputs": [],
   "source": [
    "#X_train, X_test, y_train, y_test = train_test_split(X, y, test_size=0.33, random_state=1)"
   ]
  },
  {
   "cell_type": "markdown",
   "metadata": {},
   "source": [
    "---"
   ]
  },
  {
   "cell_type": "code",
   "execution_count": 5,
   "metadata": {},
   "outputs": [],
   "source": [
    "def add_intercept(X):\n",
    "    intercept = np.ones((X.shape[0], 1))\n",
    "    return np.concatenate((intercept, X), axis=1)"
   ]
  },
  {
   "cell_type": "code",
   "execution_count": 6,
   "metadata": {},
   "outputs": [],
   "source": [
    "X = add_intercept(X)"
   ]
  },
  {
   "cell_type": "code",
   "execution_count": 7,
   "metadata": {},
   "outputs": [],
   "source": [
    "def hinge_loss(X_i, y_i, weights):\n",
    "    loss = 1 - y_i * np.dot(weights.T, X_i)\n",
    "    if loss < 0:\n",
    "        loss = 0\n",
    "    return loss"
   ]
  },
  {
   "cell_type": "code",
   "execution_count": 8,
   "metadata": {},
   "outputs": [],
   "source": [
    "w = np.zeros(len(X[0]))"
   ]
  },
  {
   "cell_type": "code",
   "execution_count": 9,
   "metadata": {},
   "outputs": [
    {
     "data": {
      "text/plain": [
       "100.0"
      ]
     },
     "execution_count": 9,
     "metadata": {},
     "output_type": "execute_result"
    }
   ],
   "source": [
    "loss = []\n",
    "for i in range(len(X)):\n",
    "    loss.append(hinge_loss(X[i], y[i], w))\n",
    "total_loss = np.sum(loss)\n",
    "total_loss"
   ]
  },
  {
   "cell_type": "code",
   "execution_count": 10,
   "metadata": {},
   "outputs": [
    {
     "data": {
      "text/plain": [
       "array([ 0.,  0.,  0.])"
      ]
     },
     "execution_count": 10,
     "metadata": {},
     "output_type": "execute_result"
    }
   ],
   "source": [
    "w"
   ]
  },
  {
   "cell_type": "code",
   "execution_count": 49,
   "metadata": {},
   "outputs": [],
   "source": [
    "# Instead of collecting the average the loss on each row of the dataset, calculate the average loss through each epoch\n",
    "\n",
    "learning_rate = .01\n",
    "num_iters = 1000\n",
    "w = np.zeros(len(X[0]))\n",
    "# lambda = 1/iteration\n",
    "loss_list = []\n",
    "loss_avg_list = []\n",
    "\n",
    "def Stochastic_Gradient_Descent(X, y, weights, learning_rate, num_iters):\n",
    "    for iteration in range(1, num_iters):\n",
    "        loss_list = []\n",
    "        for row in range(len(X)):\n",
    "            loss = hinge_loss(X[row], y[row], weights)\n",
    "            loss_list.append(loss)\n",
    "            if loss == 0:\n",
    "                weights = weights - learning_rate * ((2  * (1/iteration) * weights))\n",
    "            else:\n",
    "                weights = weights - learning_rate * ((-y[row] * X[row]) + (2  * (1/iteration) * weights))\n",
    "        loss_avg = np.sum(loss_list) / len(X)\n",
    "        loss_avg_list.append(loss_avg)\n",
    "        if iteration % 100 == 0:\n",
    "            print('Iteration:', iteration, 'average loss:', loss_avg)\n",
    "    return weights, loss_avg_list\n",
    "            "
   ]
  },
  {
   "cell_type": "code",
   "execution_count": 50,
   "metadata": {},
   "outputs": [
    {
     "name": "stdout",
     "output_type": "stream",
     "text": [
      "Iteration: 100 average loss: 0.00741490054711\n",
      "Iteration: 200 average loss: 0.00550091309919\n",
      "Iteration: 300 average loss: 0.00183107019232\n",
      "Iteration: 400 average loss: 0.0\n",
      "Iteration: 500 average loss: 0.000724259932261\n",
      "Iteration: 600 average loss: 0.000629910319605\n",
      "Iteration: 700 average loss: 0.0\n",
      "Iteration: 800 average loss: 0.0\n",
      "Iteration: 900 average loss: 0.0\n"
     ]
    }
   ],
   "source": [
    "weights, loss_avg_list = Stochastic_Gradient_Descent(X = X, y=y, weights = w, learning_rate=.01, num_iters = 1000)"
   ]
  },
  {
   "cell_type": "code",
   "execution_count": 51,
   "metadata": {},
   "outputs": [
    {
     "data": {
      "text/plain": [
       "array([ 0.32726059, -0.95533768, -0.98592672])"
      ]
     },
     "execution_count": 51,
     "metadata": {},
     "output_type": "execute_result"
    }
   ],
   "source": [
    "weights"
   ]
  },
  {
   "cell_type": "code",
   "execution_count": 52,
   "metadata": {},
   "outputs": [
    {
     "data": {
      "text/plain": [
       "0"
      ]
     },
     "execution_count": 52,
     "metadata": {},
     "output_type": "execute_result"
    }
   ],
   "source": [
    "loss = []\n",
    "for i in range(len(X)):\n",
    "    loss.append(hinge_loss(X[i], y[i], weights))\n",
    "total_loss = np.sum(loss)\n",
    "total_loss"
   ]
  },
  {
   "cell_type": "code",
   "execution_count": 56,
   "metadata": {},
   "outputs": [
    {
     "data": {
      "text/plain": [
       "[<matplotlib.lines.Line2D at 0x10cfa7f28>]"
      ]
     },
     "execution_count": 56,
     "metadata": {},
     "output_type": "execute_result"
    },
    {
     "data": {
      "image/png": "[encoded data removed]",
      "text/plain": [
       "<matplotlib.figure.Figure at 0x10ce708d0>"
      ]
     },
     "metadata": {},
     "output_type": "display_data"
    }
   ],
   "source": [
    "# Convergence of Loss function\n",
    "plt.plot(range(1, num_iters), loss_avg_list)\n",
    "#plt.ylim(0,0.02)"
   ]
  },
  {
   "cell_type": "code",
   "execution_count": 53,
   "metadata": {},
   "outputs": [
    {
     "data": {
      "text/plain": [
       "[<matplotlib.lines.Line2D at 0x10cd5c128>]"
      ]
     },
     "execution_count": 53,
     "metadata": {},
     "output_type": "execute_result"
    },
    {
     "data": {
      "image/png": "[encoded data removed]",
      "text/plain": [
       "<matplotlib.figure.Figure at 0x10cd5c160>"
      ]
     },
     "metadata": {},
     "output_type": "display_data"
    }
   ],
   "source": [
    "# it works, we've found the perfectly separating hyperplane!\n",
    "plt.scatter(X[:,1], X[:,2], c=y, cmap = 'jet')\n",
    "ax = plt.gca()\n",
    "xlim = ax.get_xlim()\n",
    "ylim = ax.get_ylim()\n",
    "xx = np.linspace(xlim[0], xlim[1], 100)\n",
    "plt.plot(xx, (-weights[1]/weights[2]) * xx - (weights[0]/weights[2]))"
   ]
  },
  {
   "cell_type": "markdown",
   "metadata": {},
   "source": [
    "If decide to split this into training and test sets: use this predict function!"
   ]
  },
  {
   "cell_type": "code",
   "execution_count": 16,
   "metadata": {},
   "outputs": [],
   "source": [
    "def predict(X, weights):\n",
    "    predictions = np.array([])\n",
    "    for i in range(len(X)):\n",
    "        dist_from_hyp = np.dot(X[i], weights)\n",
    "        if dist_from_hyp > 0:\n",
    "            predictions = np.append(predictions, 1)\n",
    "        else:\n",
    "            predictions = np.append(predictions, -1)\n",
    "    return predictions"
   ]
  },
  {
   "cell_type": "code",
   "execution_count": 16,
   "metadata": {},
   "outputs": [],
   "source": [
    "#preds = predict(X_test, weights)\n",
    "#print(classification_report(y, preds))"
   ]
  },
  {
   "cell_type": "markdown",
   "metadata": {},
   "source": [
    "### Now testing Sklearn's SCGClassifier on Blob data"
   ]
  },
  {
   "cell_type": "code",
   "execution_count": 24,
   "metadata": {},
   "outputs": [
    {
     "data": {
      "text/plain": [
       "SGDClassifier(alpha=0.1, average=False, class_weight=None, epsilon=0.1,\n",
       "       eta0=0.0, fit_intercept=True, l1_ratio=0.15,\n",
       "       learning_rate='optimal', loss='hinge', max_iter=1000, n_iter=None,\n",
       "       n_jobs=1, penalty='l2', power_t=0.5, random_state=None,\n",
       "       shuffle=True, tol=None, verbose=0, warm_start=False)"
      ]
     },
     "execution_count": 24,
     "metadata": {},
     "output_type": "execute_result"
    }
   ],
   "source": [
    "from sklearn.linear_model import SGDClassifier\n",
    "clf = SGDClassifier(loss=\"hinge\", alpha=.1, penalty=\"l2\", fit_intercept=True, max_iter=1000)\n",
    "clf.fit(X, y)"
   ]
  },
  {
   "cell_type": "code",
   "execution_count": 25,
   "metadata": {},
   "outputs": [
    {
     "data": {
      "text/plain": [
       "array([[ 0.00809963, -0.46829034, -0.46963892]])"
      ]
     },
     "execution_count": 25,
     "metadata": {},
     "output_type": "execute_result"
    }
   ],
   "source": [
    "clf.coef_"
   ]
  },
  {
   "cell_type": "code",
   "execution_count": 26,
   "metadata": {},
   "outputs": [
    {
     "data": {
      "text/plain": [
       "[<matplotlib.lines.Line2D at 0x10c983780>]"
      ]
     },
     "execution_count": 26,
     "metadata": {},
     "output_type": "execute_result"
    },
    {
     "data": {
      "image/png": "[encoded data removed]",
      "text/plain": [
       "<matplotlib.figure.Figure at 0x10c983588>"
      ]
     },
     "metadata": {},
     "output_type": "display_data"
    }
   ],
   "source": [
    "plt.scatter(X[:,1], X[:,2], c=y, cmap = 'jet')\n",
    "ax = plt.gca()\n",
    "xlim = ax.get_xlim()\n",
    "ylim = ax.get_ylim()\n",
    "xx = np.linspace(xlim[0], xlim[1], 100)\n",
    "plt.plot(xx, (-clf.coef_[0,1]/clf.coef_[0,2]) * xx - (clf.coef_[0,0]/clf.coef_[0,2]))"
   ]
  },
  {
   "cell_type": "markdown",
   "metadata": {},
   "source": [
    "## Now apply Scikit-Learn SVM to Crash data\n",
    "* Apply [Scikit-Learn's Hinge Loss Metric](http://scikit-learn.org/stable/modules/generated/sklearn.metrics.hinge_loss.html) as well.\n",
    "* Instead of their traditional SVM, I could use the [Stochastic Gradient Descent Classifier](http://scikit-learn.org/stable/modules/sgd.html)\n",
    "\n",
    "```python\n",
    "from sklearn.linear_model import SGDClassifier\n",
    "clf = SGDClassifier(loss=\"hinge\", alpha=0.01, penalty=\"l2\", fit_intercept=True)\n",
    "clf.fit(X, y)\n",
    "```\n",
    "\n",
    "Note that `SVC(kernel=\"linear\")` is equivalent to `SGDClassifier(loss=\"hinge\")` as [scikit-learn's documentation indicates](http://scikit-learn.org/stable/auto_examples/svm/plot_separating_hyperplane_unbalanced.html#sphx-glr-auto-examples-svm-plot-separating-hyperplane-unbalanced-py)"
   ]
  },
  {
   "cell_type": "code",
   "execution_count": 28,
   "metadata": {},
   "outputs": [],
   "source": [
    "import pandas as pd\n",
    "from sklearn.svm import SVC\n",
    "from sklearn.model_selection import train_test_split\n",
    "from sklearn.metrics import confusion_matrix, roc_curve, auc"
   ]
  },
  {
   "cell_type": "code",
   "execution_count": 22,
   "metadata": {},
   "outputs": [],
   "source": [
    "X = pd.read_csv('Data/Crash_X2_prepared.csv')\n",
    "# deleting the dummie columns that double up\n",
    "X = X.drop(['DRIVER1SEX_F', 'EMRGVEH_No', 'D1COND_Fatigue / Sick', 'MOTORCYCLE_No', 'CRASHSEVER_Property Damage Only' ], axis=1)\n",
    "y = pd.read_csv('Data/Crash_y2.csv')"
   ]
  },
  {
   "cell_type": "code",
   "execution_count": 23,
   "metadata": {},
   "outputs": [],
   "source": [
    "X_train, X_test, y_train, y_test = train_test_split(X, y, test_size=0.33, random_state=1)"
   ]
  },
  {
   "cell_type": "code",
   "execution_count": 24,
   "metadata": {},
   "outputs": [
    {
     "data": {
      "text/plain": [
       "SVC(C=1.0, cache_size=200, class_weight=None, coef0=0.0,\n",
       "  decision_function_shape='ovr', degree=3, gamma='auto', kernel='linear',\n",
       "  max_iter=-1, probability=False, random_state=None, shrinking=True,\n",
       "  tol=0.001, verbose=False)"
      ]
     },
     "execution_count": 24,
     "metadata": {},
     "output_type": "execute_result"
    }
   ],
   "source": [
    "# Fit the SVM model\n",
    "clf = SVC(kernel='linear')\n",
    "clf.fit(X_train, y_train.values.ravel())"
   ]
  },
  {
   "cell_type": "code",
   "execution_count": 25,
   "metadata": {},
   "outputs": [
    {
     "data": {
      "text/plain": [
       "array([[ -6.29920955e-05,  -2.55673019e-05,   5.47977257e-05,\n",
       "         -3.67141563e-05,   2.43862441e-05,   5.19146302e-05,\n",
       "         -8.16505670e-04,   9.07554341e-05,   1.17477975e-05,\n",
       "          1.99982838e+00,  -1.67895171e-04,   1.94747806e-04,\n",
       "         -1.94747803e-04,   5.04960751e-06,   1.07416327e-04,\n",
       "          3.72678038e-04]])"
      ]
     },
     "execution_count": 25,
     "metadata": {},
     "output_type": "execute_result"
    }
   ],
   "source": [
    "clf.coef_"
   ]
  },
  {
   "cell_type": "code",
   "execution_count": 26,
   "metadata": {},
   "outputs": [
    {
     "name": "stdout",
     "output_type": "stream",
     "text": [
      "             precision    recall  f1-score   support\n",
      "\n",
      "          0       0.86      0.99      0.92     18944\n",
      "          1       0.89      0.42      0.57      5139\n",
      "\n",
      "avg / total       0.87      0.86      0.84     24083\n",
      "\n"
     ]
    }
   ],
   "source": [
    "y_pred = clf.predict(X_test)\n",
    "print(classification_report(y_test, y_pred))"
   ]
  },
  {
   "cell_type": "code",
   "execution_count": 29,
   "metadata": {},
   "outputs": [
    {
     "name": "stdout",
     "output_type": "stream",
     "text": [
      "True negatives: 18679\n",
      "True positives: 2136\n",
      "False negatives: 3003\n",
      "False Positives: 265\n"
     ]
    }
   ],
   "source": [
    "tn, fp, fn, tp = confusion_matrix(y_test, y_pred).ravel()\n",
    "print('True negatives:', tn)\n",
    "print('True positives:', tp)\n",
    "print('False negatives:', fn)\n",
    "print('False Positives:', fp)"
   ]
  }
 ],
 "metadata": {
  "kernelspec": {
   "display_name": "Python 3",
   "language": "python",
   "name": "python3"
  },
  "language_info": {
   "codemirror_mode": {
    "name": "ipython",
    "version": 3
   },
   "file_extension": ".py",
   "mimetype": "text/x-python",
   "name": "python",
   "nbconvert_exporter": "python",
   "pygments_lexer": "ipython3",
   "version": "3.6.3"
  }
 },
 "nbformat": 4,
 "nbformat_minor": 2
}
